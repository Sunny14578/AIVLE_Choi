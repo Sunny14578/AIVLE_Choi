{
 "cells": [
  {
   "cell_type": "markdown",
   "metadata": {},
   "source": [
    "# Chapter 1. \n",
    "# 알고리즘 기초\n",
    "# Unit 1. 알고리즘과 플로우 차트"
   ]
  },
  {
   "cell_type": "markdown",
   "metadata": {},
   "source": [
    "## 문자열과 숫자 입력받기"
   ]
  },
  {
   "cell_type": "code",
   "execution_count": 3,
   "metadata": {},
   "outputs": [
    {
     "name": "stdout",
     "output_type": "stream",
     "text": [
      "안녕하세요? 최태양님.\n"
     ]
    }
   ],
   "source": [
    "name = input('이름을 입력하세요.: ')\n",
    "print(f'안녕하세요? {name}님.')"
   ]
  },
  {
   "cell_type": "code",
   "execution_count": 5,
   "metadata": {},
   "outputs": [
    {
     "name": "stdout",
     "output_type": "stream",
     "text": [
      "정사각형의 한 변의 길이를 입력하세요.: 5\n",
      "정사각형의 넓이는 25입니다.\n"
     ]
    }
   ],
   "source": [
    "length = input('정사각형의 한 변의 길이를 입력하세요.: ')\n",
    "print(f'정사각형의 넓이는 {int(length)**2}입니다.')"
   ]
  },
  {
   "cell_type": "markdown",
   "metadata": {},
   "source": [
    "## 세 정수를 입력받아 최댓값 구하기"
   ]
  },
  {
   "cell_type": "code",
   "execution_count": 2,
   "metadata": {},
   "outputs": [
    {
     "name": "stdout",
     "output_type": "stream",
     "text": [
      "세 정수의 최댓값을 구합니다.\n",
      "정수 a의 값을 입력하세요.: 1\n",
      "정수 b의 값을 입력하세요.: 3\n",
      "정수 c의 값을 입력하세요.: 2\n",
      "최대값은 3입니다.\n"
     ]
    }
   ],
   "source": [
    "print('세 정수의 최댓값을 구합니다.')\n",
    "a = int(input('정수 a의 값을 입력하세요.: '))\n",
    "b = int(input('정수 b의 값을 입력하세요.: '))\n",
    "c = int(input('정수 c의 값을 입력하세요.: '))\n",
    "\n",
    "maximum = a\n",
    "if b > maximum:\n",
    "    maximum = b\n",
    "if c > maximum:\n",
    "    maximum = c\n",
    "    \n",
    "print(f'최대값은 {maximum}입니다.')"
   ]
  },
  {
   "cell_type": "markdown",
   "metadata": {},
   "source": [
    "## 세 정수의 최댓값 구하기 알고리즘 확인"
   ]
  },
  {
   "cell_type": "code",
   "execution_count": 9,
   "metadata": {},
   "outputs": [
    {
     "name": "stdout",
     "output_type": "stream",
     "text": [
      "max3(3, 2, 1) = 3\n",
      "max3(3, 2, 2) = 3\n",
      "max3(3, 1, 2) = 3\n",
      "max3(3, 2, 3) = 3\n",
      "max3(2, 1, 3) = 3\n",
      "max3(3, 3, 2) = 3\n",
      "max3(3, 3, 3) = 3\n",
      "max3(2, 2, 3) = 3\n",
      "max3(2, 3, 1) = 3\n",
      "max3(2, 3, 2) = 3\n",
      "max3(1, 3, 2) = 3\n",
      "max3(2, 3, 3) = 3\n",
      "max3(1, 2, 3) = 3\n"
     ]
    }
   ],
   "source": [
    "def max3(a, b, c):\n",
    "    maximum = a\n",
    "    if b > maximum:\n",
    "        maximum = b\n",
    "    if c > maximum:\n",
    "        maximum = c\n",
    "        \n",
    "    return maximum # 최댓값 반환\n",
    "\n",
    "print(f'max3(3, 2, 1) = {max3(3, 2, 1)}')\n",
    "print(f'max3(3, 2, 2) = {max3(3, 2, 2)}')\n",
    "print(f'max3(3, 1, 2) = {max3(3, 1, 2)}')\n",
    "print(f'max3(3, 2, 3) = {max3(3, 2, 3)}')\n",
    "print(f'max3(2, 1, 3) = {max3(2, 1, 3)}')\n",
    "print(f'max3(3, 3, 2) = {max3(3, 3, 2)}')\n",
    "print(f'max3(3, 3, 3) = {max3(3, 3, 3)}')\n",
    "print(f'max3(2, 2, 3) = {max3(2, 2, 3)}')\n",
    "print(f'max3(2, 3, 1) = {max3(2, 3, 1)}')\n",
    "print(f'max3(2, 3, 2) = {max3(2, 3, 2)}')\n",
    "print(f'max3(1, 3, 2) = {max3(1, 3, 2)}')\n",
    "print(f'max3(2, 3, 3) = {max3(2, 3, 3)}')\n",
    "print(f'max3(1, 2, 3) = {max3(1, 2, 3)}')"
   ]
  },
  {
   "cell_type": "markdown",
   "metadata": {},
   "source": [
    "## 미니 실습 1)\n",
    "## 네 정수의 최댓값 구하기"
   ]
  },
  {
   "cell_type": "code",
   "execution_count": 7,
   "metadata": {},
   "outputs": [
    {
     "name": "stdout",
     "output_type": "stream",
     "text": [
      "정수를 입력하세요 : 4\n",
      "정수를 입력하세요 : 3\n",
      "정수를 입력하세요 : 2\n",
      "정수를 입력하세요 : 1\n",
      "4\n"
     ]
    }
   ],
   "source": [
    "n1 = int(input('정수를 입력하세요 : '))\n",
    "n2 = int(input('정수를 입력하세요 : '))\n",
    "n3 = int(input('정수를 입력하세요 : '))\n",
    "n4 = int(input('정수를 입력하세요 : '))\n",
    "\n",
    "result = n1\n",
    "\n",
    "if n2 > result:\n",
    "    result = n2\n",
    "if n3 > result:\n",
    "    result = n3\n",
    "if n4 > result:\n",
    "    result = n4\n",
    "    \n",
    "print(result)"
   ]
  },
  {
   "cell_type": "markdown",
   "metadata": {},
   "source": [
    "## 조건문과 분기"
   ]
  },
  {
   "cell_type": "markdown",
   "metadata": {},
   "source": [
    "### 입력받은 정수의 부호(양수, 음수, 0) 출력하기"
   ]
  },
  {
   "cell_type": "code",
   "execution_count": 4,
   "metadata": {},
   "outputs": [
    {
     "name": "stdout",
     "output_type": "stream",
     "text": [
      "정수를 입력하세요.: 0\n",
      "이 수는 0입니다.\n"
     ]
    }
   ],
   "source": [
    "n = int(input('정수를 입력하세요.: '))\n",
    "\n",
    "if n > 0:\n",
    "    print('이 수는 양수입니다.')\n",
    "elif n < 0:\n",
    "    print('이 수는 음수입니다.')\n",
    "else:\n",
    "    print('이 수는 0입니다.')"
   ]
  },
  {
   "cell_type": "markdown",
   "metadata": {},
   "source": [
    "## 세 정수의 중앙값 구하기"
   ]
  },
  {
   "cell_type": "code",
   "execution_count": 15,
   "metadata": {},
   "outputs": [
    {
     "name": "stdout",
     "output_type": "stream",
     "text": [
      "세 정수의 중앙값을 구합니다.\n",
      "정수 a의 값을 입력하세요.: 1\n",
      "정수 b의 값을 입력하세요.: 3\n",
      "정수 c의 값을 입력하세요.: 2\n",
      "중앙값은 2입니다.\n"
     ]
    }
   ],
   "source": [
    "def med3(a, b, c):\n",
    "    \n",
    "    if a >= b:\n",
    "        if b >= c:\n",
    "            return b\n",
    "        elif a <= c:\n",
    "            return a\n",
    "        else:\n",
    "            return c\n",
    "    elif a > c:\n",
    "        return a\n",
    "    elif b > c:\n",
    "        return c\n",
    "    else:\n",
    "        return b\n",
    "    \n",
    "print('세 정수의 중앙값을 구합니다.')\n",
    "a = int(input('정수 a의 값을 입력하세요.: '))\n",
    "b = int(input('정수 b의 값을 입력하세요.: '))\n",
    "c = int(input('정수 c의 값을 입력하세요.: '))\n",
    "\n",
    "print(f'중앙값은 {med3(a, b, c)}입니다.')"
   ]
  },
  {
   "cell_type": "markdown",
   "metadata": {},
   "source": [
    "## 미니 실습 2)"
   ]
  },
  {
   "cell_type": "markdown",
   "metadata": {},
   "source": [
    "## 수도 요금 계산"
   ]
  },
  {
   "cell_type": "code",
   "execution_count": 13,
   "metadata": {},
   "outputs": [],
   "source": [
    "def waterPay():\n",
    "    a = input('수도회사 A or B : ')\n",
    "    b = int(input('수도사용량 : '))\n",
    "    \n",
    "    money = 0\n",
    "    \n",
    "    if a == 'A':\n",
    "        money = 100 * b\n",
    "    else:\n",
    "        if b > 50:\n",
    "            money = 75 * (b-50) + (150 * 50)\n",
    "        else:\n",
    "            money = 150 * b\n",
    "            \n",
    "    print(money)"
   ]
  },
  {
   "cell_type": "code",
   "execution_count": 14,
   "metadata": {},
   "outputs": [
    {
     "name": "stdout",
     "output_type": "stream",
     "text": [
      "수도회사 A or B : B\n",
      "수도사용량 : 52\n",
      "7650\n"
     ]
    }
   ],
   "source": [
    "waterPay()"
   ]
  },
  {
   "cell_type": "markdown",
   "metadata": {},
   "source": [
    "# Unit 2. 반복하는 알고리즘"
   ]
  },
  {
   "cell_type": "markdown",
   "metadata": {},
   "source": [
    "### 1부터 n까지 정수의 합 구하기 (while)"
   ]
  },
  {
   "cell_type": "code",
   "execution_count": 7,
   "metadata": {},
   "outputs": [
    {
     "name": "stdout",
     "output_type": "stream",
     "text": [
      "1부터 n까지 정수의 합을 구합니다.\n",
      "n값을 입력하세요.: 5\n",
      "1부터 5까지 정수의 합은 15입니다.\n"
     ]
    }
   ],
   "source": [
    "print('1부터 n까지 정수의 합을 구합니다.')\n",
    "\n",
    "n = int(input('n값을 입력하세요.: '))\n",
    "\n",
    "sum = 0\n",
    "i = 1\n",
    "\n",
    "while i <= n: \n",
    "    sum += i\n",
    "    i += 1\n",
    "\n",
    "print(f'1부터 {n}까지 정수의 합은 {sum}입니다.')"
   ]
  },
  {
   "cell_type": "markdown",
   "metadata": {},
   "source": [
    "### 1부터 n까지 정수의 합 구하기 (for)"
   ]
  },
  {
   "cell_type": "code",
   "execution_count": 1,
   "metadata": {},
   "outputs": [
    {
     "name": "stdout",
     "output_type": "stream",
     "text": [
      "1부터 n까지 정수의 합을 구합니다.\n",
      "n값을 입력하세요.: 5\n",
      "1부터 5까지 정수의 합은 15입니다.\n"
     ]
    }
   ],
   "source": [
    "print('1부터 n까지 정수의 합을 구합니다.')\n",
    "\n",
    "n = int(input('n값을 입력하세요.: '))\n",
    "\n",
    "sum = 0\n",
    "\n",
    "for i in range(1, n+1):\n",
    "    sum += i\n",
    "\n",
    "print(f'1부터 {n}까지 정수의 합은 {sum}입니다.')"
   ]
  },
  {
   "cell_type": "markdown",
   "metadata": {},
   "source": [
    "### a부터 b까지 정수의 합 구하기 (for)"
   ]
  },
  {
   "cell_type": "code",
   "execution_count": 3,
   "metadata": {},
   "outputs": [
    {
     "name": "stdout",
     "output_type": "stream",
     "text": [
      "a부터 b까지 정수의 합을 구합니다.\n",
      "정수 a를 입력하세요.: 8\n",
      "정수 b를 입력하세요.: 3\n",
      "3부터 8까지 정수의 합은 33입니다.\n"
     ]
    }
   ],
   "source": [
    "print('a부터 b까지 정수의 합을 구합니다.')\n",
    "\n",
    "a = int(input('정수 a를 입력하세요.: '))\n",
    "b = int(input('정수 b를 입력하세요.: '))\n",
    "\n",
    "if a > b:\n",
    "    a, b = b, a\n",
    "    \n",
    "sum = 0\n",
    "\n",
    "for i in range(a, b+1):\n",
    "    sum += i\n",
    "\n",
    "print(f'{a}부터 {b}까지 정수의 합은 {sum}입니다.')"
   ]
  },
  {
   "cell_type": "markdown",
   "metadata": {},
   "source": [
    "### 반복과정에서 조건 판단하기 1"
   ]
  },
  {
   "cell_type": "code",
   "execution_count": 3,
   "metadata": {},
   "outputs": [
    {
     "name": "stdout",
     "output_type": "stream",
     "text": [
      "a부터 b까지 정수의 합을 구합니다.\n",
      "정수 a를 입력하세요.: 3\n",
      "정수 b를 입력하세요.: 4\n",
      "3 + 4 = 7\n"
     ]
    }
   ],
   "source": [
    "print('a부터 b까지 정수의 합을 구합니다.')\n",
    "\n",
    "a = int(input('정수 a를 입력하세요.: '))\n",
    "b = int(input('정수 b를 입력하세요.: '))\n",
    "\n",
    "if a > b:\n",
    "    a, b = b, a\n",
    "    \n",
    "sum = 0\n",
    "\n",
    "for i in range(a, b+1):\n",
    "    if i < b:\n",
    "        print(f'{i} + ', end='')\n",
    "    else:\n",
    "        print(f'{i} = ', end='')\n",
    "    sum +=i\n",
    "\n",
    "print(sum)"
   ]
  },
  {
   "cell_type": "markdown",
   "metadata": {},
   "source": [
    "### 미니 실습 3)\n",
    "### 반복 과정에서 조건 판단하기 (업그레이드)"
   ]
  },
  {
   "cell_type": "code",
   "execution_count": 17,
   "metadata": {},
   "outputs": [
    {
     "name": "stdout",
     "output_type": "stream",
     "text": [
      "a부터 b까지 정수의 합을 구합니다.\n",
      "정수 a를 입력하세요.: 3\n",
      "정수 b를 입력하세요.: 7\n",
      "3 + 4 + 5 + 6 + 7 = 25\n"
     ]
    }
   ],
   "source": [
    "print('a부터 b까지 정수의 합을 구합니다.')\n",
    "\n",
    "a = int(input('정수 a를 입력하세요.: '))\n",
    "b = int(input('정수 b를 입력하세요.: '))\n",
    "\n",
    "if a > b:\n",
    "    a, b = b, a\n",
    "    \n",
    "sum = 0\n",
    "\n",
    "for i in range(a, b):\n",
    "    print(f'{i} + ', end='')\n",
    "        \n",
    "    sum +=i\n",
    "\n",
    "sum += b\n",
    "print(f'{b} = ', end='')\n",
    "print(sum)"
   ]
  },
  {
   "cell_type": "markdown",
   "metadata": {},
   "source": [
    "### 반복과정에서 조건 판단하기 2"
   ]
  },
  {
   "cell_type": "code",
   "execution_count": 12,
   "metadata": {},
   "outputs": [
    {
     "name": "stdout",
     "output_type": "stream",
     "text": [
      "*를 출력합니다.\n",
      "몇 개를 출력할까요?: 14\n",
      "몇 개마다 줄바꿈할까요?: 5\n",
      "*****\n",
      "*****\n",
      "****\n"
     ]
    }
   ],
   "source": [
    "# * 를 n 개 출력하되 w개마다 줄바꿈하기 1 \n",
    "\n",
    "print('*를 출력합니다.')\n",
    "n = int(input('몇 개를 출력할까요?: '))\n",
    "w = int(input('몇 개마다 줄바꿈할까요?: '))\n",
    "\n",
    "for i in range(n):\n",
    "    print('*', end='')\n",
    "    if i % w == w-1:\n",
    "        print()\n",
    "\n",
    "if n%w:\n",
    "    print()\n"
   ]
  },
  {
   "cell_type": "code",
   "execution_count": 15,
   "metadata": {},
   "outputs": [
    {
     "name": "stdout",
     "output_type": "stream",
     "text": [
      "*를 출력합니다.\n",
      "몇 개를 출력할까요?: 14\n",
      "몇 개마다 줄바꿈할까요?: 5\n",
      "*****\n",
      "*****\n",
      "****\n"
     ]
    }
   ],
   "source": [
    "# * 를 n 개 출력하되 w개마다 줄바꿈하기 2 \n",
    "\n",
    "print('*를 출력합니다.')\n",
    "n = int(input('몇 개를 출력할까요?: '))\n",
    "w = int(input('몇 개마다 줄바꿈할까요?: '))\n",
    "\n",
    "for _ in range(n // w): # n//w번 반복\n",
    "    print('*' * w)      # *를 w번 출력\n",
    "   \n",
    "rest = n % w \n",
    "if rest:                # rest 값이 있으면\n",
    "    print('*' * rest)   # rest 값만큼 * 반복 출력"
   ]
  },
  {
   "cell_type": "markdown",
   "metadata": {},
   "source": [
    "### 무한 루프와 break"
   ]
  },
  {
   "cell_type": "code",
   "execution_count": 16,
   "metadata": {},
   "outputs": [
    {
     "name": "stdout",
     "output_type": "stream",
     "text": [
      "1부터 n까지 정수의 합을 구합니다.\n",
      "n값을 입력하세요.: -6\n",
      "n값을 입력하세요.: 0\n",
      "n값을 입력하세요.: 10\n",
      "1부터 10까지 정수의 합은 55입니다.\n"
     ]
    }
   ],
   "source": [
    "# 1부터 n까지 정수의 합 구하기 (n값은 양수만 입력받음)\n",
    "\n",
    "print('1부터 n까지 정수의 합을 구합니다.')\n",
    "\n",
    "while True:\n",
    "    n = int(input('n값을 입력하세요.: '))\n",
    "    if n > 0:\n",
    "        break # n이 0보다 커질때 까지 반복\n",
    "        \n",
    "sum = 0\n",
    "i = 1\n",
    "\n",
    "for i in range(1, n+1):\n",
    "    sum += i\n",
    "    i += 1\n",
    "    \n",
    "print(f'1부터 {n}까지 정수의 합은 {sum}입니다.')"
   ]
  },
  {
   "cell_type": "markdown",
   "metadata": {},
   "source": [
    "### continue 와 break"
   ]
  },
  {
   "cell_type": "code",
   "execution_count": 3,
   "metadata": {},
   "outputs": [
    {
     "name": "stdout",
     "output_type": "stream",
     "text": [
      "정사각형의 넓이를 입력하세요.: 32\n",
      "1 x 32\n",
      "2 x 16\n",
      "4 x 8\n"
     ]
    }
   ],
   "source": [
    "# 가로, 세로 길이가 정수이고 넓이가 area인 직사각형에서 가능한 변의 길이 나열\n",
    "\n",
    "area = int(input('직사각형의 넓이를 입력하세요.: '))\n",
    "\n",
    "for i in range(1, area + 1):\n",
    "    if i * i > area: break       \n",
    "    if area % i: continue\n",
    "    print(f'{i} x {area // i}')"
   ]
  },
  {
   "cell_type": "markdown",
   "metadata": {},
   "source": [
    "### 미니 실습 4"
   ]
  },
  {
   "cell_type": "code",
   "execution_count": 22,
   "metadata": {},
   "outputs": [
    {
     "name": "stdout",
     "output_type": "stream",
     "text": [
      "직사각형의 넓이를 입력하세요.: 32\n",
      "1 x 32\n",
      "2 x 16\n",
      "4 x 8\n",
      "8 x 4\n",
      "16 x 2\n",
      "32 x 1\n"
     ]
    }
   ],
   "source": [
    "# 가로, 세로 길이가 정수이고 넓이가 area인 직사각형에서 가능한 변의 길이 나열\n",
    "\n",
    "area = int(input('직사각형의 넓이를 입력하세요.: '))\n",
    "\n",
    "for i in range(1, area + 1):\n",
    "    if i * i > area:\n",
    "        pass\n",
    "    if area % i: continue\n",
    "    print(f'{i} x {area // i}')\n",
    "    "
   ]
  },
  {
   "cell_type": "markdown",
   "metadata": {},
   "source": [
    "### 구구단 출력"
   ]
  },
  {
   "cell_type": "code",
   "execution_count": 8,
   "metadata": {},
   "outputs": [
    {
     "name": "stdout",
     "output_type": "stream",
     "text": [
      "---------------------------\n",
      "  1  2  3  4  5  6  7  8  9\n",
      "  2  4  6  8 10 12 14 16 18\n",
      "  3  6  9 12 15 18 21 24 27\n",
      "  4  8 12 16 20 24 28 32 36\n",
      "  5 10 15 20 25 30 35 40 45\n",
      "  6 12 18 24 30 36 42 48 54\n",
      "  7 14 21 28 35 42 49 56 63\n",
      "  8 16 24 32 40 48 56 64 72\n",
      "  9 18 27 36 45 54 63 72 81\n",
      "---------------------------\n"
     ]
    }
   ],
   "source": [
    "print('-' * 27)\n",
    "for i in range(1, 10):\n",
    "    for j in range(1, 10):\n",
    "        print(f'{i * j:3}', end='')\n",
    "    print()\n",
    "\n",
    "print('-' * 27)"
   ]
  },
  {
   "cell_type": "code",
   "execution_count": 51,
   "metadata": {},
   "outputs": [
    {
     "name": "stdout",
     "output_type": "stream",
     "text": [
      "100 1\n",
      "101 2\n",
      "102 3\n",
      "103 4\n",
      "104 5\n",
      "105 6\n",
      "106 7\n",
      "107 8\n",
      "108 9\n",
      "109 10\n",
      "110 11\n",
      "111 12\n",
      "112 13\n",
      "113 14\n",
      "114 15\n",
      "115 16\n",
      "116 17\n",
      "117 18\n",
      "118 19\n",
      "119 20\n",
      "120 21\n",
      "121 22\n",
      "122 23\n",
      "123 24\n",
      "124 25\n",
      "125 26\n",
      "126 27\n",
      "127 28\n",
      "128 29\n",
      "129 30\n",
      "130 31\n",
      "131 32\n",
      "132 33\n",
      "133 34\n",
      "134 35\n",
      "135 36\n",
      "136 37\n",
      "137 38\n",
      "138 39\n",
      "139 40\n",
      "140 41\n",
      "141 42\n",
      "142 43\n",
      "143 44\n",
      "144 45\n",
      "145 46\n",
      "146 47\n",
      "147 48\n",
      "148 49\n",
      "149 50\n",
      "150 51\n",
      "151 52\n",
      "152 53\n",
      "153 54\n",
      "154 55\n",
      "155 56\n",
      "156 57\n",
      "157 58\n",
      "158 59\n",
      "159 60\n",
      "160 61\n",
      "161 62\n",
      "162 63\n",
      "163 64\n",
      "164 65\n",
      "165 66\n",
      "166 67\n",
      "167 68\n",
      "168 69\n",
      "169 70\n",
      "170 71\n",
      "171 72\n",
      "172 73\n",
      "173 74\n",
      "174 75\n",
      "175 76\n",
      "176 77\n",
      "177 78\n",
      "178 79\n",
      "179 80\n",
      "180 81\n",
      "181 82\n",
      "182 83\n",
      "183 84\n",
      "184 85\n",
      "185 86\n",
      "186 87\n",
      "187 88\n",
      "188 89\n",
      "189 90\n",
      "190 91\n",
      "191 92\n",
      "192 93\n",
      "193 94\n",
      "194 95\n",
      "195 96\n",
      "196 97\n",
      "197 98\n",
      "198 99\n",
      "199 100\n",
      "200 101\n"
     ]
    }
   ],
   "source": [
    "cnt = 1\n",
    "\n",
    "for i in range(100, 201, 1):\n",
    "    print(i, cnt)\n",
    "    cnt+=1"
   ]
  },
  {
   "cell_type": "markdown",
   "metadata": {},
   "source": [
    "# 실습 1"
   ]
  },
  {
   "cell_type": "code",
   "execution_count": 54,
   "metadata": {},
   "outputs": [],
   "source": [
    "def electricPay():\n",
    "    kwh = int(input('전력량을 입력하시오 : '))\n",
    "    \n",
    "    money = 0\n",
    "    \n",
    "    \n",
    "    if kwh < 100:\n",
    "        money += 410\n",
    "        money += kwh * 60.7\n",
    "    elif kwh <= 200:\n",
    "        money += 910\n",
    "        money += (60.7 * 100) + (kwh-100)*125.9\n",
    "    else:\n",
    "        money += 1600\n",
    "        money += (60.7 * 100) + (125.9 * 100) + (kwh-200) * 187.9\n",
    "    \n",
    "    final_money = money\n",
    "    final_money += money * 0.037\n",
    "    final_money += money * 0.1\n",
    "    \n",
    "    print(f'요금 : {int(money)}')\n",
    "    print(f'부가가치세와 전력산업기반기금 포함금액 : {int(final_money)}')"
   ]
  },
  {
   "cell_type": "code",
   "execution_count": 55,
   "metadata": {},
   "outputs": [
    {
     "name": "stdout",
     "output_type": "stream",
     "text": [
      "전력량을 입력하시오 : 100\n",
      "요금 : 6980\n",
      "부가가치세와 전력산업기반기금 포함금액 : 7936\n"
     ]
    }
   ],
   "source": [
    "electricPay()"
   ]
  },
  {
   "cell_type": "markdown",
   "metadata": {},
   "source": [
    "# 실습 2"
   ]
  },
  {
   "cell_type": "code",
   "execution_count": 58,
   "metadata": {},
   "outputs": [
    {
     "name": "stdout",
     "output_type": "stream",
     "text": [
      "+와 -를 번갈아 출력합니다.\n",
      "몇 개를 출력할까요? : 11\n",
      "+-+-+-+-+-+"
     ]
    }
   ],
   "source": [
    "print('+와 -를 번갈아 출력합니다.')\n",
    "n = int(input('몇 개를 출력할까요? : '))\n",
    "\n",
    "for i in range(n):\n",
    "    if i%2 == 0:\n",
    "        print('+', end = \"\")\n",
    "    else:\n",
    "        print('-', end = \"\")"
   ]
  },
  {
   "cell_type": "code",
   "execution_count": 59,
   "metadata": {},
   "outputs": [
    {
     "name": "stdout",
     "output_type": "stream",
     "text": [
      "+와 -를 번갈아 출력합니다.\n",
      "몇 개를 출력할까요? : 12\n",
      "+-+-+-+-+-+-"
     ]
    }
   ],
   "source": [
    "print('+와 -를 번갈아 출력합니다.')\n",
    "n = int(input('몇 개를 출력할까요? : '))\n",
    "\n",
    "for i in range(n):\n",
    "    if i%2 == 0:\n",
    "        print('+', end = \"\")\n",
    "    else:\n",
    "        print('-', end = \"\")"
   ]
  },
  {
   "cell_type": "code",
   "execution_count": 63,
   "metadata": {},
   "outputs": [],
   "source": [
    "if 0:\n",
    "    print(1)"
   ]
  },
  {
   "cell_type": "markdown",
   "metadata": {},
   "source": [
    "# 실습 3"
   ]
  },
  {
   "cell_type": "code",
   "execution_count": 61,
   "metadata": {},
   "outputs": [
    {
     "name": "stdout",
     "output_type": "stream",
     "text": [
      "1 2 3 4 5 6 7 9 10 11 12 "
     ]
    }
   ],
   "source": [
    "for i in range(1, 13):\n",
    "    if i == 8:\n",
    "        pass\n",
    "    else:\n",
    "        print(i, end = \" \")"
   ]
  },
  {
   "cell_type": "markdown",
   "metadata": {},
   "source": [
    "# 실습 4"
   ]
  },
  {
   "cell_type": "code",
   "execution_count": 73,
   "metadata": {},
   "outputs": [
    {
     "name": "stdout",
     "output_type": "stream",
     "text": [
      "숫자를 입력하세요 : 16\n",
      "2**4 = 16입니다.\n",
      "4**2 = 16입니다.\n"
     ]
    }
   ],
   "source": [
    "n = int(input('숫자를 입력하세요 : '))\n",
    "\n",
    "cnt = 0\n",
    "root = 0\n",
    "pwr = 0\n",
    "\n",
    "for i in range(1, n+1):\n",
    "    for j in range(2, 7):\n",
    "        if i**j == n:\n",
    "            print(f'{i}**{j} = {i**j}입니다.')\n",
    "            cnt = 1\n",
    "            break\n",
    "        \n",
    "if cnt == 0:\n",
    "    print('결과가 없음')\n",
    "        \n",
    "\n",
    "# root ** pwr ( 1 < pwr < 6)\n",
    "\n"
   ]
  }
 ],
 "metadata": {
  "kernelspec": {
   "display_name": "Python 3",
   "language": "python",
   "name": "python3"
  },
  "language_info": {
   "codemirror_mode": {
    "name": "ipython",
    "version": 3
   },
   "file_extension": ".py",
   "mimetype": "text/x-python",
   "name": "python",
   "nbconvert_exporter": "python",
   "pygments_lexer": "ipython3",
   "version": "3.9.10"
  },
  "vscode": {
   "interpreter": {
    "hash": "1d5c1156327dacead463cc502c55ebae8ce9c8c01979cf154173ff808e75bf55"
   }
  }
 },
 "nbformat": 4,
 "nbformat_minor": 4
}
